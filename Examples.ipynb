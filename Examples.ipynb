{
 "cells": [
  {
   "cell_type": "markdown",
   "metadata": {},
   "source": [
    "### A basic tkinter program"
   ]
  },
  {
   "cell_type": "code",
   "execution_count": null,
   "metadata": {
    "collapsed": false
   },
   "outputs": [],
   "source": [
    "import tkinter\n",
    "from matplotlib.backends.backend_tkagg import FigureCanvasTkAgg\n",
    "from matplotlib.figure import Figure\n",
    "\n",
    "class App:\n",
    "    def __init__(self, master):\n",
    "        # Create a container\n",
    "        frame = tkinter.Frame(master)\n",
    "        # Create 2 buttons\n",
    "        self.button_left = tkinter.Button(frame,text=\"< Decrease Slope\",\n",
    "                                        command=self.decrease)\n",
    "        self.button_left.pack(side=\"left\")\n",
    "        self.button_right = tkinter.Button(frame,text=\"Increase Slope >\",\n",
    "                                        command=self.increase)\n",
    "        self.button_right.pack(side=\"left\")\n",
    "\n",
    "        fig = Figure()\n",
    "        ax = fig.add_subplot(111)\n",
    "        self.line, = ax.plot(range(10))\n",
    "\n",
    "        self.canvas = FigureCanvasTkAgg(fig,master=master)\n",
    "        self.canvas.show()\n",
    "        self.canvas.get_tk_widget().pack(side='top', fill='both', expand=1)\n",
    "        frame.pack()\n",
    "\n",
    "    def decrease(self):\n",
    "        x, y = self.line.get_data()\n",
    "        self.line.set_ydata(y - 0.2 * x )\n",
    "        self.canvas.draw()\n",
    "\n",
    "    def increase(self):\n",
    "        x, y = self.line.get_data()\n",
    "        self.line.set_ydata(y + 0.2 * x)\n",
    "        self.canvas.draw()\n",
    "\n",
    "root = tkinter.Tk()\n",
    "app = App(root)\n",
    "root.mainloop()"
   ]
  },
  {
   "cell_type": "markdown",
   "metadata": {},
   "source": [
    "### Another tkinter program"
   ]
  },
  {
   "cell_type": "code",
   "execution_count": null,
   "metadata": {
    "collapsed": false
   },
   "outputs": [],
   "source": [
    "from tkinter import *\n",
    "\n",
    "def show_entry_fields():\n",
    "   print(\"First Name: %s\\nLast Name: %s\" % (e1.get(), e2.get()))\n",
    "   e1.delete(0,END)\n",
    "   e2.delete(0,END)\n",
    "\n",
    "master = Tk()\n",
    "Label(master, text=\"First Name\").grid(row=0)\n",
    "Label(master, text=\"Last Name\").grid(row=1)\n",
    "\n",
    "e1 = Entry(master)\n",
    "e2 = Entry(master)\n",
    "e1.insert(10,\"Miller\")\n",
    "e2.insert(10,\"Jill\")\n",
    "\n",
    "e1.grid(row=0, column=1)\n",
    "e2.grid(row=1, column=1)\n",
    "\n",
    "Button(master, text='Quit', command=master.quit).grid(row=3, column=0, sticky=W, pady=4)\n",
    "Button(master, text='Show', command=show_entry_fields).grid(row=3, column=1, sticky=W, pady=4)\n",
    "\n",
    "mainloop( )"
   ]
  },
  {
   "cell_type": "markdown",
   "metadata": {},
   "source": [
    "### Program for getting information of new axes after zooming with rectangle zoom tool."
   ]
  },
  {
   "cell_type": "code",
   "execution_count": null,
   "metadata": {
    "collapsed": false
   },
   "outputs": [],
   "source": [
    "import matplotlib.pyplot as plt\n",
    "\n",
    "#\n",
    "# Some toy data\n",
    "x_seq = [x / 100.0 for x in range(1, 100)]\n",
    "y_seq = [x**2 for x in x_seq]\n",
    "\n",
    "#\n",
    "# Scatter plot\n",
    "fig, ax = plt.subplots(1, 1)\n",
    "ax.scatter(x_seq, y_seq)\n",
    "\n",
    "#\n",
    "# Declare and register callbacks\n",
    "def on_xlims_change(axes):\n",
    "    print (\"updated xlims: \"+ str(axes.get_xlim()))\n",
    "\n",
    "def on_ylims_change(axes):\n",
    "    print (\"updated ylims: \"+ str(axes.get_ylim()))\n",
    "\n",
    "ax.callbacks.connect('xlim_changed', on_xlims_change)\n",
    "ax.callbacks.connect('ylim_changed', on_ylims_change)\n",
    "\n",
    "#\n",
    "# Show\n",
    "plt.show()"
   ]
  },
  {
   "cell_type": "code",
   "execution_count": null,
   "metadata": {
    "collapsed": true
   },
   "outputs": [],
   "source": []
  }
 ],
 "metadata": {
  "kernelspec": {
   "display_name": "Python 3",
   "language": "python",
   "name": "python3"
  },
  "language_info": {
   "codemirror_mode": {
    "name": "ipython",
    "version": 3
   },
   "file_extension": ".py",
   "mimetype": "text/x-python",
   "name": "python",
   "nbconvert_exporter": "python",
   "pygments_lexer": "ipython3",
   "version": "3.6.0"
  }
 },
 "nbformat": 4,
 "nbformat_minor": 1
}
